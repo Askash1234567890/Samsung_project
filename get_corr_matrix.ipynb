{
  "nbformat": 4,
  "nbformat_minor": 0,
  "metadata": {
    "colab": {
      "provenance": []
    },
    "kernelspec": {
      "name": "python3",
      "display_name": "Python 3"
    },
    "language_info": {
      "name": "python"
    }
  },
  "cells": [
    {
      "cell_type": "code",
      "execution_count": null,
      "metadata": {
        "colab": {
          "base_uri": "https://localhost:8080/"
        },
        "id": "XlDKuUqhwnx4",
        "outputId": "f1ee58dc-9307-4ef5-a7bf-ce409bc701c3"
      },
      "outputs": [
        {
          "output_type": "stream",
          "name": "stdout",
          "text": [
            "Mounted at /content/gdrive\n"
          ]
        }
      ],
      "source": [
        "from google.colab import drive\n",
        "import os\n",
        "\n",
        "drive.mount('/content/gdrive')\n",
        "os.chdir(r'/content/gdrive/MyDrive/purp_hack')"
      ]
    },
    {
      "cell_type": "code",
      "source": [
        "import pandas as pd\n",
        "import seaborn as sns\n",
        "import matplotlib.pyplot as plt\n",
        "import numpy as np\n",
        "\n",
        "from sklearn.preprocessing import StandardScaler"
      ],
      "metadata": {
        "id": "l9t-18POwtjC"
      },
      "execution_count": null,
      "outputs": []
    },
    {
      "cell_type": "code",
      "source": [
        "df = pd.read_parquet('df_version_1.park')"
      ],
      "metadata": {
        "id": "beLKZ09Hw0hi"
      },
      "execution_count": null,
      "outputs": []
    },
    {
      "cell_type": "code",
      "source": [
        "df.shape"
      ],
      "metadata": {
        "id": "rM4_PBgXKU7w",
        "colab": {
          "base_uri": "https://localhost:8080/"
        },
        "outputId": "8d9a81fd-fcc7-4bdc-8c6a-789fb0a47afb"
      },
      "execution_count": null,
      "outputs": [
        {
          "output_type": "execute_result",
          "data": {
            "text/plain": [
              "(519615, 860)"
            ]
          },
          "metadata": {},
          "execution_count": 4
        }
      ]
    },
    {
      "cell_type": "code",
      "source": [
        "df_corr = df.corr()"
      ],
      "metadata": {
        "id": "ihPv-zHqvULx"
      },
      "execution_count": null,
      "outputs": []
    },
    {
      "cell_type": "code",
      "source": [
        "def get_columns(df1_corr):\n",
        "    s = abs(df1_corr).unstack()\n",
        "    so = s.sort_values(kind=\"quicksort\")\n",
        "\n",
        "    features = (j for i, j in zip(so[0.99 < so], so[0.9 < so].index) if j[0] != j[1])\n",
        "    set_of_features = set()\n",
        "\n",
        "    for i in features:\n",
        "        set_of_features.add(i[0])\n",
        "        set_of_features.add(i[1])\n",
        "    return so[0.99 < so]\n",
        "\n",
        "print(get_columns(df_corr))"
      ],
      "metadata": {
        "colab": {
          "base_uri": "https://localhost:8080/"
        },
        "id": "5pZ8zURIvsur",
        "outputId": "5073feab-667e-42bb-debb-ff1fc9559d30"
      },
      "execution_count": null,
      "outputs": [
        {
          "output_type": "stream",
          "name": "stdout",
          "text": [
            "feature267  feature249    0.990018\n",
            "feature249  feature267    0.990018\n",
            "feature7    feature602    0.990038\n",
            "feature602  feature7      0.990038\n",
            "feature7    feature696    0.990103\n",
            "                            ...   \n",
            "feature650  feature650    1.000000\n",
            "feature649  feature649    1.000000\n",
            "feature648  feature648    1.000000\n",
            "feature646  feature646    1.000000\n",
            "target      target        1.000000\n",
            "Length: 2630, dtype: float64\n"
          ]
        }
      ]
    },
    {
      "cell_type": "code",
      "source": [
        "del df1_corr"
      ],
      "metadata": {
        "id": "AsTRENeIzcV0"
      },
      "execution_count": null,
      "outputs": []
    },
    {
      "cell_type": "code",
      "source": [
        "df_corr.to_parquet('correlation.park')"
      ],
      "metadata": {
        "id": "VeVbo38iw0k_"
      },
      "execution_count": null,
      "outputs": []
    }
  ]
}